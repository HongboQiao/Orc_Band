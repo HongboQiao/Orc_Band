{
 "cells": [
  {
   "cell_type": "code",
   "execution_count": 1,
   "metadata": {},
   "outputs": [],
   "source": [
    "#import package\n",
    "import numpy as np\n",
    "import pandas as pd\n",
    "import matplotlib.pyplot as plt\n",
    "%matplotlib inline\n",
    "from sklearn import linear_model\n",
    "from pandas.plotting import scatter_matrix\n",
    "from sklearn.model_selection import train_test_split\n",
    "from sklearn.metrics import mean_squared_error\n",
    "from sklearn.preprocessing import StandardScaler\n",
    "get_ipython().run_line_magic('matplotlib', 'inline')\n",
    "from sklearn.linear_model import LinearRegression"
   ]
  },
  {
   "cell_type": "code",
   "execution_count": 2,
   "metadata": {},
   "outputs": [],
   "source": [
    "#load data\n",
    "data = pd.read_excel('Five_descriptors.xlsx')"
   ]
  },
  {
   "cell_type": "code",
   "execution_count": 3,
   "metadata": {
    "scrolled": true
   },
   "outputs": [
    {
     "data": {
      "text/html": [
       "<div>\n",
       "<style scoped>\n",
       "    .dataframe tbody tr th:only-of-type {\n",
       "        vertical-align: middle;\n",
       "    }\n",
       "\n",
       "    .dataframe tbody tr th {\n",
       "        vertical-align: top;\n",
       "    }\n",
       "\n",
       "    .dataframe thead th {\n",
       "        text-align: right;\n",
       "    }\n",
       "</style>\n",
       "<table border=\"1\" class=\"dataframe\">\n",
       "  <thead>\n",
       "    <tr style=\"text-align: right;\">\n",
       "      <th></th>\n",
       "      <th>e_gap_alpha</th>\n",
       "      <th>AXp-0d</th>\n",
       "      <th>AXp-1d</th>\n",
       "      <th>AXp-2d</th>\n",
       "      <th>ETA_eta_L</th>\n",
       "      <th>ETA_epsilon_3</th>\n",
       "    </tr>\n",
       "  </thead>\n",
       "  <tbody>\n",
       "    <tr>\n",
       "      <th>0</th>\n",
       "      <td>1.996881</td>\n",
       "      <td>0.655204</td>\n",
       "      <td>0.412925</td>\n",
       "      <td>0.254120</td>\n",
       "      <td>6.270874</td>\n",
       "      <td>0.453846</td>\n",
       "    </tr>\n",
       "    <tr>\n",
       "      <th>1</th>\n",
       "      <td>2.036048</td>\n",
       "      <td>0.653042</td>\n",
       "      <td>0.410310</td>\n",
       "      <td>0.250812</td>\n",
       "      <td>5.213917</td>\n",
       "      <td>0.454839</td>\n",
       "    </tr>\n",
       "    <tr>\n",
       "      <th>2</th>\n",
       "      <td>1.693484</td>\n",
       "      <td>0.651497</td>\n",
       "      <td>0.408298</td>\n",
       "      <td>0.249048</td>\n",
       "      <td>7.045647</td>\n",
       "      <td>0.455556</td>\n",
       "    </tr>\n",
       "    <tr>\n",
       "      <th>3</th>\n",
       "      <td>1.848455</td>\n",
       "      <td>0.653414</td>\n",
       "      <td>0.411399</td>\n",
       "      <td>0.249837</td>\n",
       "      <td>6.773586</td>\n",
       "      <td>0.454667</td>\n",
       "    </tr>\n",
       "    <tr>\n",
       "      <th>4</th>\n",
       "      <td>2.074585</td>\n",
       "      <td>0.655204</td>\n",
       "      <td>0.412177</td>\n",
       "      <td>0.256459</td>\n",
       "      <td>6.133003</td>\n",
       "      <td>0.453846</td>\n",
       "    </tr>\n",
       "  </tbody>\n",
       "</table>\n",
       "</div>"
      ],
      "text/plain": [
       "   e_gap_alpha    AXp-0d    AXp-1d    AXp-2d  ETA_eta_L  ETA_epsilon_3\n",
       "0     1.996881  0.655204  0.412925  0.254120   6.270874       0.453846\n",
       "1     2.036048  0.653042  0.410310  0.250812   5.213917       0.454839\n",
       "2     1.693484  0.651497  0.408298  0.249048   7.045647       0.455556\n",
       "3     1.848455  0.653414  0.411399  0.249837   6.773586       0.454667\n",
       "4     2.074585  0.655204  0.412177  0.256459   6.133003       0.453846"
      ]
     },
     "execution_count": 3,
     "metadata": {},
     "output_type": "execute_result"
    }
   ],
   "source": [
    "data.head()"
   ]
  },
  {
   "cell_type": "code",
   "execution_count": 4,
   "metadata": {},
   "outputs": [],
   "source": [
    "#This is an example, after we determine our predictor, we can change the value of X\n",
    "X = data.iloc[:,1:5]\n",
    "y = data.iloc[:,0]"
   ]
  },
  {
   "cell_type": "code",
   "execution_count": 5,
   "metadata": {},
   "outputs": [],
   "source": [
    "X_train, X_test, y_train, y_test = train_test_split(X, y, test_size = .25, random_state=25)"
   ]
  },
  {
   "cell_type": "code",
   "execution_count": 6,
   "metadata": {},
   "outputs": [],
   "source": [
    "#linear = linear_model.LinearRegression()\n",
    "#linear_model = linear.fit(X_train,y_train)\n",
    "#predictions = linear.predict(X_test)\n",
    "#plt.scatter(y_test,predictions)"
   ]
  },
  {
   "cell_type": "code",
   "execution_count": 7,
   "metadata": {
    "scrolled": true
   },
   "outputs": [
    {
     "data": {
      "image/png": "[encoded data removed]",
      "text/plain": [
       "<Figure size 432x288 with 1 Axes>"
      ]
     },
     "metadata": {
      "needs_background": "light"
     },
     "output_type": "display_data"
    }
   ],
   "source": [
    "MLR = linear_model.LinearRegression()\n",
    "MLR.fit(X_train,y_train)\n",
    "testpred = MLR.predict(X_test)\n",
    "trainpred = MLR.predict(X_train)\n",
    "plt.scatter(y_train,trainpred,color='blue')\n",
    "plt.scatter(y_test,testpred,color='r')\n",
    "plt.plot([0,4],[0,4],lw=4,color='black')\n",
    "plt.title('Multipler linear Regression Results')\n",
    "plt.xlabel('actual bandgap')\n",
    "plt.ylabel('predicted bandgap')\n",
    "plt.show()"
   ]
  },
  {
   "cell_type": "code",
   "execution_count": 9,
   "metadata": {},
   "outputs": [
    {
     "data": {
      "text/plain": [
       "0.6009903843049816"
      ]
     },
     "execution_count": 9,
     "metadata": {},
     "output_type": "execute_result"
    }
   ],
   "source": [
    "MLR.score(X_test,y_test)"
   ]
  },
  {
   "cell_type": "code",
   "execution_count": null,
   "metadata": {},
   "outputs": [],
   "source": []
  }
 ],
 "metadata": {
  "kernelspec": {
   "display_name": "Python 3",
   "language": "python",
   "name": "python3"
  },
  "language_info": {
   "codemirror_mode": {
    "name": "ipython",
    "version": 3
   },
   "file_extension": ".py",
   "mimetype": "text/x-python",
   "name": "python",
   "nbconvert_exporter": "python",
   "pygments_lexer": "ipython3",
   "version": "3.6.8"
  }
 },
 "nbformat": 4,
 "nbformat_minor": 2
}
