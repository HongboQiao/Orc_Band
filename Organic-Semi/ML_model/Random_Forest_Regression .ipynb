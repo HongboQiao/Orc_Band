{
 "cells": [
  {
   "cell_type": "code",
   "execution_count": 1,
   "metadata": {},
   "outputs": [],
   "source": [
    "# Regression Template\n",
    "\n",
    "# Random Forest Regression\n",
    "\n",
    "import numpy as np\n",
    "import matplotlib.pyplot as plt\n",
    "import pandas as pd\n",
    "from sklearn.model_selection import train_test_split\n",
    "from sklearn.metrics import mean_squared_error\n",
    "from sklearn.preprocessing import StandardScaler\n",
    "get_ipython().run_line_magic('matplotlib', 'inline')\n",
    "from sklearn.linear_model import LinearRegression"
   ]
  },
  {
   "cell_type": "code",
   "execution_count": 2,
   "metadata": {},
   "outputs": [],
   "source": [
    "# Importing the datasets\n",
    "\n",
    "datasets = pd.read_excel('Five_descriptors.xlsx')"
   ]
  },
  {
   "cell_type": "code",
   "execution_count": 3,
   "metadata": {},
   "outputs": [
    {
     "data": {
      "text/html": [
       "<div>\n",
       "<style scoped>\n",
       "    .dataframe tbody tr th:only-of-type {\n",
       "        vertical-align: middle;\n",
       "    }\n",
       "\n",
       "    .dataframe tbody tr th {\n",
       "        vertical-align: top;\n",
       "    }\n",
       "\n",
       "    .dataframe thead th {\n",
       "        text-align: right;\n",
       "    }\n",
       "</style>\n",
       "<table border=\"1\" class=\"dataframe\">\n",
       "  <thead>\n",
       "    <tr style=\"text-align: right;\">\n",
       "      <th></th>\n",
       "      <th>e_gap_alpha</th>\n",
       "      <th>AXp-0d</th>\n",
       "      <th>AXp-1d</th>\n",
       "      <th>AXp-2d</th>\n",
       "      <th>ETA_eta_L</th>\n",
       "      <th>ETA_epsilon_3</th>\n",
       "    </tr>\n",
       "  </thead>\n",
       "  <tbody>\n",
       "    <tr>\n",
       "      <th>0</th>\n",
       "      <td>1.996881</td>\n",
       "      <td>0.655204</td>\n",
       "      <td>0.412925</td>\n",
       "      <td>0.254120</td>\n",
       "      <td>6.270874</td>\n",
       "      <td>0.453846</td>\n",
       "    </tr>\n",
       "    <tr>\n",
       "      <th>1</th>\n",
       "      <td>2.036048</td>\n",
       "      <td>0.653042</td>\n",
       "      <td>0.410310</td>\n",
       "      <td>0.250812</td>\n",
       "      <td>5.213917</td>\n",
       "      <td>0.454839</td>\n",
       "    </tr>\n",
       "    <tr>\n",
       "      <th>2</th>\n",
       "      <td>1.693484</td>\n",
       "      <td>0.651497</td>\n",
       "      <td>0.408298</td>\n",
       "      <td>0.249048</td>\n",
       "      <td>7.045647</td>\n",
       "      <td>0.455556</td>\n",
       "    </tr>\n",
       "    <tr>\n",
       "      <th>3</th>\n",
       "      <td>1.848455</td>\n",
       "      <td>0.653414</td>\n",
       "      <td>0.411399</td>\n",
       "      <td>0.249837</td>\n",
       "      <td>6.773586</td>\n",
       "      <td>0.454667</td>\n",
       "    </tr>\n",
       "    <tr>\n",
       "      <th>4</th>\n",
       "      <td>2.074585</td>\n",
       "      <td>0.655204</td>\n",
       "      <td>0.412177</td>\n",
       "      <td>0.256459</td>\n",
       "      <td>6.133003</td>\n",
       "      <td>0.453846</td>\n",
       "    </tr>\n",
       "  </tbody>\n",
       "</table>\n",
       "</div>"
      ],
      "text/plain": [
       "   e_gap_alpha    AXp-0d    AXp-1d    AXp-2d  ETA_eta_L  ETA_epsilon_3\n",
       "0     1.996881  0.655204  0.412925  0.254120   6.270874       0.453846\n",
       "1     2.036048  0.653042  0.410310  0.250812   5.213917       0.454839\n",
       "2     1.693484  0.651497  0.408298  0.249048   7.045647       0.455556\n",
       "3     1.848455  0.653414  0.411399  0.249837   6.773586       0.454667\n",
       "4     2.074585  0.655204  0.412177  0.256459   6.133003       0.453846"
      ]
     },
     "execution_count": 3,
     "metadata": {},
     "output_type": "execute_result"
    }
   ],
   "source": [
    "datasets.head()"
   ]
  },
  {
   "cell_type": "code",
   "execution_count": 4,
   "metadata": {},
   "outputs": [],
   "source": [
    "X = datasets.iloc[:, 1:6].values\n",
    "Y = datasets.iloc[:, 0].values"
   ]
  },
  {
   "cell_type": "code",
   "execution_count": 5,
   "metadata": {},
   "outputs": [],
   "source": [
    "X_train, X_test, Y_train, Y_test = train_test_split(X, Y, test_size = .25, random_state=25)"
   ]
  },
  {
   "cell_type": "code",
   "execution_count": 6,
   "metadata": {},
   "outputs": [
    {
     "data": {
      "image/png": "[encoded data removed]",
      "text/plain": [
       "<Figure size 432x288 with 1 Axes>"
      ]
     },
     "metadata": {
      "needs_background": "light"
     },
     "output_type": "display_data"
    }
   ],
   "source": [
    "# Fitting the Regression model to the dataset\n",
    "\n",
    "from sklearn.ensemble import RandomForestRegressor\n",
    "regressor = RandomForestRegressor(n_estimators = 300, random_state = 0)\n",
    "regressor.fit(X_train,Y_train)\n",
    "\n",
    "# Predicting a new result with the Random Forest Regression\n",
    "\n",
    "Ytrain_Pred = regressor.predict(X_train)\n",
    "Ytest_Pred = regressor.predict(X_test)\n",
    "\n",
    "# Visualising the Random Forest Regression results in higher resolution and smoother curve\n",
    "#X_Grid = np.arange(min(X), max(X), 0.01)\n",
    "#X_Grid = X_Grid.reshape((len(X_Grid), 1))\n",
    "plt.scatter(Y_train,Ytrain_Pred, color = 'blue')\n",
    "plt.scatter(Y_test,Ytest_Pred, color = 'red')\n",
    "#plt.plot(X_Grid, regressor.predict(X_Grid), color = 'black')\n",
    "plt.plot([0,4],[0,4],lw=4,color='black')\n",
    "plt.title('Random Forest Regression Results')\n",
    "plt.xlabel('actual bandgap')\n",
    "plt.ylabel('predicted bandgap')\n",
    "plt.show()"
   ]
  },
  {
   "cell_type": "code",
   "execution_count": 7,
   "metadata": {},
   "outputs": [
    {
     "data": {
      "text/plain": [
       "0.6937985043006905"
      ]
     },
     "execution_count": 7,
     "metadata": {},
     "output_type": "execute_result"
    }
   ],
   "source": [
    "regressor.score(X_test,Y_test)"
   ]
  },
  {
   "cell_type": "code",
   "execution_count": null,
   "metadata": {},
   "outputs": [],
   "source": []
  }
 ],
 "metadata": {
  "kernelspec": {
   "display_name": "Python 3",
   "language": "python",
   "name": "python3"
  },
  "language_info": {
   "codemirror_mode": {
    "name": "ipython",
    "version": 3
   },
   "file_extension": ".py",
   "mimetype": "text/x-python",
   "name": "python",
   "nbconvert_exporter": "python",
   "pygments_lexer": "ipython3",
   "version": "3.6.8"
  }
 },
 "nbformat": 4,
 "nbformat_minor": 2
}
