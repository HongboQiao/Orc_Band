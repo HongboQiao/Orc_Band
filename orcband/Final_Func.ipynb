{
 "cells": [
  {
   "cell_type": "code",
   "execution_count": 1,
   "metadata": {},
   "outputs": [],
   "source": [
    "#import package\n",
    "import numpy as np\n",
    "import pandas as pd\n",
    "import matplotlib.pyplot as plt\n",
    "%matplotlib inline\n",
    "from sklearn import linear_model\n",
    "from pandas.plotting import scatter_matrix\n",
    "from sklearn.model_selection import train_test_split\n",
    "from sklearn.metrics import mean_squared_error\n",
    "from sklearn.preprocessing import StandardScaler\n",
    "get_ipython().run_line_magic('matplotlib', 'inline')\n",
    "from sklearn.linear_model import LinearRegression\n",
    "from multiprocessing import freeze_support\n",
    "from rdkit import Chem\n",
    "from mordred import Calculator, descriptors"
   ]
  },
  {
   "cell_type": "code",
   "execution_count": 46,
   "metadata": {},
   "outputs": [],
   "source": [
    "#str = raw_input(\"请输入：\")\n",
    "putin={'SMILES_str': 'C1C=CC=C1c1cc2[se]c3c4occc4c4nsnc4c3c2cn1'}"
   ]
  },
  {
   "cell_type": "code",
   "execution_count": 47,
   "metadata": {},
   "outputs": [],
   "source": [
    "data=pd.DataFrame(index=[1], data=putin)"
   ]
  },
  {
   "cell_type": "code",
   "execution_count": 48,
   "metadata": {},
   "outputs": [
    {
     "name": "stderr",
     "output_type": "stream",
     "text": [
      "100%|████████████████████████████████████████████████████████████████████████████████████| 1/1 [00:01<00:00,  1.88s/it]\n"
     ]
    },
    {
     "name": "stdout",
     "output_type": "stream",
     "text": [
      "         ABC      ABCGG  nAcid  nBase    SpAbs_A   SpMax_A  SpDiam_A  \\\n",
      "0  20.142136  16.169815      0      0  33.204238  2.616114  5.057172   \n",
      "\n",
      "      SpAD_A  SpMAD_A   LogEE_A  ...      SRW10     TSRW10          MW  \\\n",
      "0  33.204238  1.38351  4.188377  ...  10.460213  77.559765  394.963154   \n",
      "\n",
      "        AMW  WPath  WPol  Zagreb1  Zagreb2  mZagreb1  mZagreb2  \n",
      "0  11.96858   1216    42    146.0    185.0  4.611111       5.0  \n",
      "\n",
      "[1 rows x 1825 columns]\n"
     ]
    }
   ],
   "source": [
    "if __name__ == \"__main__\":\n",
    "    freeze_support()\n",
    "\n",
    "    mols = [Chem.MolFromSmiles(smi) for smi in data['SMILES_str']]\n",
    "\n",
    "    # Create Calculator\n",
    "    calc = Calculator(descriptors)\n",
    "\n",
    "    # map method calculate multiple molecules (return generator)\n",
    "    #print(list(calc.map(mols)))\n",
    "\n",
    "    # pandas method calculate multiple molecules (return pandas DataFrame)\n",
    "    raw_data=calc.pandas(mols)\n",
    "    print(raw_data)"
   ]
  },
  {
   "cell_type": "code",
   "execution_count": 88,
   "metadata": {},
   "outputs": [
    {
     "data": {
      "text/html": [
       "<div>\n",
       "<style scoped>\n",
       "    .dataframe tbody tr th:only-of-type {\n",
       "        vertical-align: middle;\n",
       "    }\n",
       "\n",
       "    .dataframe tbody tr th {\n",
       "        vertical-align: top;\n",
       "    }\n",
       "\n",
       "    .dataframe thead th {\n",
       "        text-align: right;\n",
       "    }\n",
       "</style>\n",
       "<table border=\"1\" class=\"dataframe\">\n",
       "  <thead>\n",
       "    <tr style=\"text-align: right;\">\n",
       "      <th></th>\n",
       "      <th>ABC</th>\n",
       "      <th>ABCGG</th>\n",
       "      <th>nAcid</th>\n",
       "      <th>nBase</th>\n",
       "      <th>SpAbs_A</th>\n",
       "      <th>SpMax_A</th>\n",
       "      <th>SpDiam_A</th>\n",
       "      <th>SpAD_A</th>\n",
       "      <th>SpMAD_A</th>\n",
       "      <th>LogEE_A</th>\n",
       "      <th>...</th>\n",
       "      <th>SRW10</th>\n",
       "      <th>TSRW10</th>\n",
       "      <th>MW</th>\n",
       "      <th>AMW</th>\n",
       "      <th>WPath</th>\n",
       "      <th>WPol</th>\n",
       "      <th>Zagreb1</th>\n",
       "      <th>Zagreb2</th>\n",
       "      <th>mZagreb1</th>\n",
       "      <th>mZagreb2</th>\n",
       "    </tr>\n",
       "  </thead>\n",
       "  <tbody>\n",
       "    <tr>\n",
       "      <th>0</th>\n",
       "      <td>20.142136</td>\n",
       "      <td>16.169815</td>\n",
       "      <td>0</td>\n",
       "      <td>0</td>\n",
       "      <td>33.204238</td>\n",
       "      <td>2.616114</td>\n",
       "      <td>5.057172</td>\n",
       "      <td>33.204238</td>\n",
       "      <td>1.38351</td>\n",
       "      <td>4.188377</td>\n",
       "      <td>...</td>\n",
       "      <td>10.460213</td>\n",
       "      <td>77.559765</td>\n",
       "      <td>394.963154</td>\n",
       "      <td>11.96858</td>\n",
       "      <td>1216</td>\n",
       "      <td>42</td>\n",
       "      <td>146.0</td>\n",
       "      <td>185.0</td>\n",
       "      <td>4.611111</td>\n",
       "      <td>5.0</td>\n",
       "    </tr>\n",
       "  </tbody>\n",
       "</table>\n",
       "<p>1 rows × 1825 columns</p>\n",
       "</div>"
      ],
      "text/plain": [
       "         ABC      ABCGG  nAcid  nBase    SpAbs_A   SpMax_A  SpDiam_A  \\\n",
       "0  20.142136  16.169815      0      0  33.204238  2.616114  5.057172   \n",
       "\n",
       "      SpAD_A  SpMAD_A   LogEE_A  ...      SRW10     TSRW10          MW  \\\n",
       "0  33.204238  1.38351  4.188377  ...  10.460213  77.559765  394.963154   \n",
       "\n",
       "        AMW  WPath  WPol  Zagreb1  Zagreb2  mZagreb1  mZagreb2  \n",
       "0  11.96858   1216    42    146.0    185.0  4.611111       5.0  \n",
       "\n",
       "[1 rows x 1825 columns]"
      ]
     },
     "execution_count": 88,
     "metadata": {},
     "output_type": "execute_result"
    }
   ],
   "source": [
    "raw_data"
   ]
  },
  {
   "cell_type": "code",
   "execution_count": 93,
   "metadata": {},
   "outputs": [],
   "source": [
    "new={'AXp-0d':raw_data['AXp-0d'].values,\n",
    "     'AXp-1d':raw_data['AXp-1d'].values,\n",
    "     'AXp-2d':raw_data['AXp-2d'].values,\n",
    "     'ETA_eta_L':raw_data['ETA_eta_L'].values,\n",
    "     'ETA_epsilon_3':raw_data['ETA_epsilon_3'].values}\n",
    "new_data=pd.DataFrame(index=[1], data= new )\n"
   ]
  },
  {
   "cell_type": "code",
   "execution_count": 95,
   "metadata": {},
   "outputs": [
    {
     "data": {
      "text/html": [
       "<div>\n",
       "<style scoped>\n",
       "    .dataframe tbody tr th:only-of-type {\n",
       "        vertical-align: middle;\n",
       "    }\n",
       "\n",
       "    .dataframe tbody tr th {\n",
       "        vertical-align: top;\n",
       "    }\n",
       "\n",
       "    .dataframe thead th {\n",
       "        text-align: right;\n",
       "    }\n",
       "</style>\n",
       "<table border=\"1\" class=\"dataframe\">\n",
       "  <thead>\n",
       "    <tr style=\"text-align: right;\">\n",
       "      <th></th>\n",
       "      <th>AXp-0d</th>\n",
       "      <th>AXp-1d</th>\n",
       "      <th>AXp-2d</th>\n",
       "      <th>ETA_eta_L</th>\n",
       "      <th>ETA_epsilon_3</th>\n",
       "    </tr>\n",
       "  </thead>\n",
       "  <tbody>\n",
       "    <tr>\n",
       "      <th>1</th>\n",
       "      <td>0.653042</td>\n",
       "      <td>0.41031</td>\n",
       "      <td>0.250812</td>\n",
       "      <td>5.67059</td>\n",
       "      <td>0.454839</td>\n",
       "    </tr>\n",
       "  </tbody>\n",
       "</table>\n",
       "</div>"
      ],
      "text/plain": [
       "     AXp-0d   AXp-1d    AXp-2d  ETA_eta_L  ETA_epsilon_3\n",
       "1  0.653042  0.41031  0.250812    5.67059       0.454839"
      ]
     },
     "execution_count": 95,
     "metadata": {},
     "output_type": "execute_result"
    }
   ],
   "source": [
    "new_data"
   ]
  },
  {
   "cell_type": "code",
   "execution_count": 81,
   "metadata": {},
   "outputs": [
    {
     "data": {
      "text/plain": [
       "0    0.653042\n",
       "Name: AXp-0d, dtype: float64"
      ]
     },
     "execution_count": 81,
     "metadata": {},
     "output_type": "execute_result"
    }
   ],
   "source": [
    "raw_data['AXp-0d']"
   ]
  },
  {
   "cell_type": "code",
   "execution_count": null,
   "metadata": {},
   "outputs": [],
   "source": [
    "data = pd.read_csv('C:/Users/meng1/Desktop/data_science/Organic-Semi/Organic-Semi/PreML/DescriptorsDataset.csv')"
   ]
  },
  {
   "cell_type": "code",
   "execution_count": null,
   "metadata": {},
   "outputs": [],
   "source": [
    "X = data[['AXp-0d', 'AXp-1d', 'AXp-2d', 'ETA_eta_L', 'ETA_epsilon_3']].values\n",
    "y = data[['e_gap_alpha']].values"
   ]
  },
  {
   "cell_type": "code",
   "execution_count": null,
   "metadata": {},
   "outputs": [],
   "source": [
    "X_train, X_test, y_train, y_test = train_test_split(X, y, test_size = .25, random_state=123)"
   ]
  },
  {
   "cell_type": "code",
   "execution_count": null,
   "metadata": {},
   "outputs": [],
   "source": [
    "# Fitting the Regression model to the dataset\n",
    "\n",
    "from sklearn.ensemble import RandomForestRegressor\n",
    "regressor = RandomForestRegressor(n_estimators = 300, random_state = 0)\n",
    "regressor.fit(X_train,y_train)\n",
    "\n",
    "# Predicting a new result with the Random Forest Regression\n",
    "\n",
    "Ytrain_Pred = regressor.predict(X_train)\n",
    "Ytest_Pred = regressor.predict(X_test)\n",
    "\n",
    "# Visualising the Random Forest Regression results in higher resolution and smoother curve\n",
    "#X_Grid = np.arange(min(X), max(X), 0.01)\n",
    "#X_Grid = X_Grid.reshape((len(X_Grid), 1))\n",
    "plt.scatter(y_train,Ytrain_Pred, color = 'blue')\n",
    "plt.scatter(y_test,Ytest_Pred, color = 'red')\n",
    "#plt.plot(X_Grid, regressor.predict(X_Grid), color = 'black')\n",
    "plt.plot([0,4],[0,4],lw=4,color='black')\n",
    "plt.title('Random Forest Regression Results')\n",
    "plt.xlabel('actual bandgap')\n",
    "plt.ylabel('predicted bandgap')\n",
    "plt.show()"
   ]
  },
  {
   "cell_type": "code",
   "execution_count": null,
   "metadata": {},
   "outputs": [],
   "source": []
  },
  {
   "cell_type": "code",
   "execution_count": null,
   "metadata": {},
   "outputs": [],
   "source": []
  },
  {
   "cell_type": "code",
   "execution_count": null,
   "metadata": {},
   "outputs": [],
   "source": []
  },
  {
   "cell_type": "code",
   "execution_count": null,
   "metadata": {},
   "outputs": [],
   "source": []
  },
  {
   "cell_type": "code",
   "execution_count": null,
   "metadata": {},
   "outputs": [],
   "source": []
  }
 ],
 "metadata": {
  "kernelspec": {
   "display_name": "Python 3",
   "language": "python",
   "name": "python3"
  },
  "language_info": {
   "codemirror_mode": {
    "name": "ipython",
    "version": 3
   },
   "file_extension": ".py",
   "mimetype": "text/x-python",
   "name": "python",
   "nbconvert_exporter": "python",
   "pygments_lexer": "ipython3",
   "version": "3.6.8"
  }
 },
 "nbformat": 4,
 "nbformat_minor": 2
}
