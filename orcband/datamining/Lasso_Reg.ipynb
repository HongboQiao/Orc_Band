{
 "cells": [
  {
   "cell_type": "code",
   "execution_count": 1,
   "metadata": {},
   "outputs": [],
   "source": [
    "import numpy as np\n",
    "import pandas as pd\n",
    "from sklearn import linear_model\n",
    "from pandas.plotting import scatter_matrix\n",
    "from sklearn.model_selection import train_test_split\n",
    "from sklearn.metrics import mean_squared_error\n",
    "from sklearn.linear_model import Ridge\n",
    "from sklearn.preprocessing import StandardScaler\n",
    "%matplotlib inline\n",
    "import matplotlib.pyplot as plt"
   ]
  },
  {
   "cell_type": "code",
   "execution_count": 2,
   "metadata": {},
   "outputs": [],
   "source": [
    "data = pd.read_csv('DescriptorsDataset.csv')"
   ]
  },
  {
   "cell_type": "code",
   "execution_count": 4,
   "metadata": {},
   "outputs": [
    {
     "name": "stderr",
     "output_type": "stream",
     "text": [
      "C:\\Users\\meng1\\Miniconda3\\lib\\site-packages\\sklearn\\preprocessing\\data.py:625: DataConversionWarning: Data with input dtype int64, float64 were all converted to float64 by StandardScaler.\n",
      "  return self.partial_fit(X, y)\n",
      "C:\\Users\\meng1\\Miniconda3\\lib\\site-packages\\ipykernel_launcher.py:3: DataConversionWarning: Data with input dtype int64, float64 were all converted to float64 by StandardScaler.\n",
      "  This is separate from the ipykernel package so we can avoid doing imports until\n",
      "C:\\Users\\meng1\\Miniconda3\\lib\\site-packages\\ipykernel_launcher.py:4: DataConversionWarning: Data with input dtype int64, float64 were all converted to float64 by StandardScaler.\n",
      "  after removing the cwd from sys.path.\n"
     ]
    }
   ],
   "source": [
    "train,test = train_test_split(data, test_size=0.05, random_state=123)\n",
    "scaler = StandardScaler().fit(train)\n",
    "train_normalized = pd.DataFrame(data=scaler.transform(train), columns=train.columns)\n",
    "test_normalized = pd.DataFrame(data=scaler.transform(test), columns=test.columns)"
   ]
  },
  {
   "cell_type": "code",
   "execution_count": 5,
   "metadata": {},
   "outputs": [
    {
     "data": {
      "text/plain": [
       "Lasso(alpha=1e-06, copy_X=True, fit_intercept=True, max_iter=10000000.0,\n",
       "   normalize=False, positive=False, precompute=False, random_state=None,\n",
       "   selection='cyclic', tol=0.0001, warm_start=False)"
      ]
     },
     "execution_count": 5,
     "metadata": {},
     "output_type": "execute_result"
    }
   ],
   "source": [
    "model1=linear_model.Lasso()\n",
    "model1.set_params(alpha=1e-6,max_iter=1e7)\n",
    "model1.fit(train_normalized[train.columns.values[2:15]],train_normalized[train.columns.values[1]])"
   ]
  },
  {
   "cell_type": "code",
   "execution_count": 6,
   "metadata": {},
   "outputs": [
    {
     "data": {
      "text/plain": [
       "array([ -0.50805158,  51.52939855, -15.61422249,  -5.82820363,\n",
       "         0.90767169,  -0.83783293,  -0.31870739,  -1.11995942,\n",
       "         1.67682816,   1.83124346,   0.16750433,  -2.40776709,\n",
       "        30.83976329])"
      ]
     },
     "execution_count": 6,
     "metadata": {},
     "output_type": "execute_result"
    }
   ],
   "source": [
    "model1.coef_"
   ]
  },
  {
   "cell_type": "code",
   "execution_count": 7,
   "metadata": {},
   "outputs": [
    {
     "data": {
      "text/html": [
       "<div>\n",
       "<style scoped>\n",
       "    .dataframe tbody tr th:only-of-type {\n",
       "        vertical-align: middle;\n",
       "    }\n",
       "\n",
       "    .dataframe tbody tr th {\n",
       "        vertical-align: top;\n",
       "    }\n",
       "\n",
       "    .dataframe thead th {\n",
       "        text-align: right;\n",
       "    }\n",
       "</style>\n",
       "<table border=\"1\" class=\"dataframe\">\n",
       "  <thead>\n",
       "    <tr style=\"text-align: right;\">\n",
       "      <th></th>\n",
       "      <th>Unnamed: 0</th>\n",
       "      <th>e_gap_alpha</th>\n",
       "      <th>Xch-5d</th>\n",
       "      <th>AXp-0d</th>\n",
       "      <th>AXp-1d</th>\n",
       "      <th>AXp-2d</th>\n",
       "      <th>AXp-3d</th>\n",
       "      <th>AXp-4d</th>\n",
       "      <th>AXp-5d</th>\n",
       "      <th>AXp-6d</th>\n",
       "      <th>AXp-7d</th>\n",
       "      <th>ETA_eta</th>\n",
       "      <th>AETA_eta</th>\n",
       "      <th>ETA_eta_L</th>\n",
       "      <th>ETA_epsilon_3</th>\n",
       "    </tr>\n",
       "  </thead>\n",
       "  <tbody>\n",
       "    <tr>\n",
       "      <th>0</th>\n",
       "      <td>0</td>\n",
       "      <td>1.996881</td>\n",
       "      <td>0.262189</td>\n",
       "      <td>0.655204</td>\n",
       "      <td>0.412925</td>\n",
       "      <td>0.254120</td>\n",
       "      <td>0.158333</td>\n",
       "      <td>0.098975</td>\n",
       "      <td>0.060991</td>\n",
       "      <td>0.038411</td>\n",
       "      <td>0.024199</td>\n",
       "      <td>22.577974</td>\n",
       "      <td>0.752599</td>\n",
       "      <td>6.270874</td>\n",
       "      <td>0.453846</td>\n",
       "    </tr>\n",
       "    <tr>\n",
       "      <th>1</th>\n",
       "      <td>1</td>\n",
       "      <td>2.036048</td>\n",
       "      <td>0.458607</td>\n",
       "      <td>0.653042</td>\n",
       "      <td>0.410310</td>\n",
       "      <td>0.250812</td>\n",
       "      <td>0.155235</td>\n",
       "      <td>0.096945</td>\n",
       "      <td>0.058389</td>\n",
       "      <td>0.036704</td>\n",
       "      <td>0.023043</td>\n",
       "      <td>16.897284</td>\n",
       "      <td>0.704054</td>\n",
       "      <td>5.213917</td>\n",
       "      <td>0.454839</td>\n",
       "    </tr>\n",
       "    <tr>\n",
       "      <th>2</th>\n",
       "      <td>2</td>\n",
       "      <td>1.693484</td>\n",
       "      <td>0.476265</td>\n",
       "      <td>0.651497</td>\n",
       "      <td>0.408298</td>\n",
       "      <td>0.249048</td>\n",
       "      <td>0.153825</td>\n",
       "      <td>0.095116</td>\n",
       "      <td>0.056878</td>\n",
       "      <td>0.035892</td>\n",
       "      <td>0.022453</td>\n",
       "      <td>25.174481</td>\n",
       "      <td>0.899089</td>\n",
       "      <td>7.045647</td>\n",
       "      <td>0.455556</td>\n",
       "    </tr>\n",
       "    <tr>\n",
       "      <th>3</th>\n",
       "      <td>3</td>\n",
       "      <td>1.848455</td>\n",
       "      <td>0.331927</td>\n",
       "      <td>0.653414</td>\n",
       "      <td>0.411399</td>\n",
       "      <td>0.249837</td>\n",
       "      <td>0.152563</td>\n",
       "      <td>0.093787</td>\n",
       "      <td>0.056820</td>\n",
       "      <td>0.034494</td>\n",
       "      <td>0.021676</td>\n",
       "      <td>25.363511</td>\n",
       "      <td>0.874604</td>\n",
       "      <td>6.773586</td>\n",
       "      <td>0.454667</td>\n",
       "    </tr>\n",
       "    <tr>\n",
       "      <th>4</th>\n",
       "      <td>4</td>\n",
       "      <td>2.074585</td>\n",
       "      <td>0.380040</td>\n",
       "      <td>0.655204</td>\n",
       "      <td>0.412177</td>\n",
       "      <td>0.256459</td>\n",
       "      <td>0.160971</td>\n",
       "      <td>0.101101</td>\n",
       "      <td>0.061597</td>\n",
       "      <td>0.039310</td>\n",
       "      <td>0.024843</td>\n",
       "      <td>20.323884</td>\n",
       "      <td>0.812955</td>\n",
       "      <td>6.133003</td>\n",
       "      <td>0.453846</td>\n",
       "    </tr>\n",
       "  </tbody>\n",
       "</table>\n",
       "</div>"
      ],
      "text/plain": [
       "   Unnamed: 0  e_gap_alpha    Xch-5d    AXp-0d    AXp-1d    AXp-2d    AXp-3d  \\\n",
       "0           0     1.996881  0.262189  0.655204  0.412925  0.254120  0.158333   \n",
       "1           1     2.036048  0.458607  0.653042  0.410310  0.250812  0.155235   \n",
       "2           2     1.693484  0.476265  0.651497  0.408298  0.249048  0.153825   \n",
       "3           3     1.848455  0.331927  0.653414  0.411399  0.249837  0.152563   \n",
       "4           4     2.074585  0.380040  0.655204  0.412177  0.256459  0.160971   \n",
       "\n",
       "     AXp-4d    AXp-5d    AXp-6d    AXp-7d    ETA_eta  AETA_eta  ETA_eta_L  \\\n",
       "0  0.098975  0.060991  0.038411  0.024199  22.577974  0.752599   6.270874   \n",
       "1  0.096945  0.058389  0.036704  0.023043  16.897284  0.704054   5.213917   \n",
       "2  0.095116  0.056878  0.035892  0.022453  25.174481  0.899089   7.045647   \n",
       "3  0.093787  0.056820  0.034494  0.021676  25.363511  0.874604   6.773586   \n",
       "4  0.101101  0.061597  0.039310  0.024843  20.323884  0.812955   6.133003   \n",
       "\n",
       "   ETA_epsilon_3  \n",
       "0       0.453846  \n",
       "1       0.454839  \n",
       "2       0.455556  \n",
       "3       0.454667  \n",
       "4       0.453846  "
      ]
     },
     "execution_count": 7,
     "metadata": {},
     "output_type": "execute_result"
    }
   ],
   "source": [
    "data.head()"
   ]
  },
  {
   "cell_type": "markdown",
   "metadata": {},
   "source": [
    "According to lasso Regression result, we choose Axp-0d, Axp-1d, Axp-2d, ETA_eta_L, ETA_epsilon_3 as predictors"
   ]
  },
  {
   "cell_type": "code",
   "execution_count": null,
   "metadata": {},
   "outputs": [],
   "source": []
  }
 ],
 "metadata": {
  "kernelspec": {
   "display_name": "Python 3",
   "language": "python",
   "name": "python3"
  },
  "language_info": {
   "codemirror_mode": {
    "name": "ipython",
    "version": 3
   },
   "file_extension": ".py",
   "mimetype": "text/x-python",
   "name": "python",
   "nbconvert_exporter": "python",
   "pygments_lexer": "ipython3",
   "version": "3.6.8"
  }
 },
 "nbformat": 4,
 "nbformat_minor": 2
}
