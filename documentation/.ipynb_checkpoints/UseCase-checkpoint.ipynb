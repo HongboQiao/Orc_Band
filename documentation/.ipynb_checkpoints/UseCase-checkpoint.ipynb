{
 "cells": [
  {
   "cell_type": "markdown",
   "metadata": {},
   "source": [
    "# The Instruction to use our model"
   ]
  },
  {
   "cell_type": "markdown",
   "metadata": {},
   "source": [
    "First, make sure you already read our ``README`` and have all the important packages. Our Environment file ``keras1_0.yml`` is also in the repo, you can simply install and activate it."
   ]
  },
  {
   "cell_type": "markdown",
   "metadata": {},
   "source": [
    "### Let's Begin!\n",
    "First, ``import sys``, and please add the path for ``SMS_BandGap.py``. If you have our repo in your local, the path should be like this.   \n",
    "And of course, ``import SMS_BandGap``."
   ]
  },
  {
   "cell_type": "code",
   "execution_count": 1,
   "metadata": {},
   "outputs": [],
   "source": [
    "import sys\n",
    "sys.path.insert(0, \"docs\")\n",
    "import sms_to_bandgap"
   ]
  },
  {
   "cell_type": "markdown",
   "metadata": {},
   "source": [
    "Our function is a wrap function and the only thing you need to input is a SMILES string.  \n",
    "For example:\n",
    "  1. C1C=CC=C1c1cc2[se]c3c4occc4c4nsnc4c3c2cn1\n",
    "  2. [SiH2]1C=CC2=C1C=C([SiH2]2)C1=Cc2[se]ccc2[SiH2]1\n",
    "  3. C1C=c2c3ccsc3c3[se]c4cc(oc4c3c2=C1)C1=CC=CC1  \n",
    "  ...\n",
    "  \n",
    "And it's your turn! Please put your SMILES string!"
   ]
  },
  {
   "cell_type": "code",
   "execution_count": 2,
   "metadata": {},
   "outputs": [
    {
     "name": "stdout",
     "output_type": "stream",
     "text": [
      "Please Input a SMILES String: [SiH2]1C=CC2=C1C=C([SiH2]2)C1=Cc2[se]ccc2[SiH2]1\n"
     ]
    }
   ],
   "source": [
    "sms = input(\"Please Input a SMILES String: \")"
   ]
  },
  {
   "cell_type": "markdown",
   "metadata": {},
   "source": [
    "Use our function!"
   ]
  },
  {
   "cell_type": "code",
   "execution_count": 3,
   "metadata": {},
   "outputs": [
    {
     "name": "stderr",
     "output_type": "stream",
     "text": [
      "100%|█████████████████████████████████████████████████████████████████████████████████████████████████████████████████████████████████████████████████████████████████████████████████████████████████████████████████████████| 1/1 [00:01<00:00,  1.21s/it]\n"
     ]
    },
    {
     "data": {
      "text/plain": [
       "array([1.82833077])"
      ]
     },
     "execution_count": 3,
     "metadata": {},
     "output_type": "execute_result"
    }
   ],
   "source": [
    "sms_to_bandgap.sms_bandgap(sms)"
   ]
  },
  {
   "cell_type": "markdown",
   "metadata": {},
   "source": [
    "That's it! Well done my friend!"
   ]
  },
  {
   "cell_type": "markdown",
   "metadata": {},
   "source": [
    "### Brief Introduction for the function.\n",
    "We are using RDkit to calculate the numerous descriptors from the SMILES string of organic semiconductors.  \n",
    "And the Regressiong model we use is Random Forest Regression, by trainning this model with 100K data from Harvard, we have a very good model which have a $R^2$ equals to 0.8.  \n",
    "We saved our model as ``.pickle`` file and read it every time you want to use it.  \n",
    "There are several solutions in case there are some error:  \n",
    "1. You may using a different environment, make sure you install all the packages, or maybe you should try to use our env.\n",
    "2. You may need to run this Jupyter at the root of the repo."
   ]
  },
  {
   "cell_type": "code",
   "execution_count": null,
   "metadata": {},
   "outputs": [],
   "source": []
  }
 ],
 "metadata": {
  "kernelspec": {
   "display_name": "Python 3",
   "language": "python",
   "name": "python3"
  },
  "language_info": {
   "codemirror_mode": {
    "name": "ipython",
    "version": 3
   },
   "file_extension": ".py",
   "mimetype": "text/x-python",
   "name": "python",
   "nbconvert_exporter": "python",
   "pygments_lexer": "ipython3",
   "version": "3.6.8"
  }
 },
 "nbformat": 4,
 "nbformat_minor": 2
}
